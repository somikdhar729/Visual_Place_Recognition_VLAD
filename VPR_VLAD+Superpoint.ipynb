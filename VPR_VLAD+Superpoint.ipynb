{
 "cells": [
  {
   "cell_type": "code",
   "execution_count": 11,
   "id": "27d12f40",
   "metadata": {},
   "outputs": [],
   "source": [
    "import numpy as np\n",
    "import cv2\n",
    "import os\n",
    "import warnings\n",
    "from tqdm import tqdm\n",
    "from matplotlib import pyplot as plt\n",
    "import torch\n",
    "\n",
    "from sklearn.cluster import KMeans\n",
    "from sklearn.neighbors import BallTree\n",
    "\n",
    "from superpoint import SuperPoint"
   ]
  },
  {
   "cell_type": "code",
   "execution_count": 2,
   "id": "897b5d30",
   "metadata": {},
   "outputs": [],
   "source": [
    "device = 'cuda:0' if torch.cuda.is_available() else 'cpu'\n",
    "\n",
    "database_path = r'./T4imgs/database/'\n",
    "query_path = r\"./T4imgs/queries/\"\n",
    "num_of_imgs = 1"
   ]
  },
  {
   "cell_type": "code",
   "execution_count": 14,
   "id": "1a90e217",
   "metadata": {},
   "outputs": [],
   "source": [
    "query_path = r\"./T4imgs/queries/\""
   ]
  },
  {
   "cell_type": "markdown",
   "id": "a48377df",
   "metadata": {},
   "source": [
    "# Extract and Aggregate SIFT Feature of the Database"
   ]
  },
  {
   "cell_type": "markdown",
   "id": "a8ade95f",
   "metadata": {},
   "source": [
    "1. **Extract** and **Aggregate** features from all the database images. I use SIFT here, but SURF or ORB may also work. Every step, we directly read an image from the SSD, extract featrue with help of OpenCV 4.4+, aggregate the extracted feature into a big list `database_entire_des` that would store all the features from all the images, by taking advantage of python's `extend` so we are not creating nested array.\n",
    "    - It's tempting to store all the loaded images or computed (SIFT) feature and retrieve them later from RAM. But my experiment showed that it's actually faster if we just load them and re-compute (SIFT) feature whenever we need any one of these two, as SSD + CPU doing heavylifting is faster than CPU + RAM doing heavylifing. Anyway, I didn't store the computed SIFT or loaded images anywhere"
   ]
  },
  {
   "cell_type": "code",
   "execution_count": 3,
   "id": "ff471ba3",
   "metadata": {},
   "outputs": [],
   "source": [
    "def describe_SP(img, model):\n",
    "    model.eval()\n",
    "    _, inp = read_image(img, device)\n",
    "    pred = model({'image': inp})\n",
    "    des = pred['descriptors'][0]\n",
    "    des = torch.transpose(des, 0, 1)\n",
    "    des = des.cpu().detach().numpy()\n",
    "    des = des.astype(np.float64)\n",
    "    return des\n",
    "\n",
    "def frame2tensor(frame, device):\n",
    "    return torch.from_numpy(frame/255.).float()[None, None].to(device)\n",
    "\n",
    "def read_image(path, device):\n",
    "    image = cv2.imread(str(path), cv2.IMREAD_GRAYSCALE)\n",
    "\n",
    "    if image is None:\n",
    "        return None, None, None\n",
    "    \n",
    "    inp = frame2tensor(image, device)\n",
    "    return image, inp"
   ]
  },
  {
   "cell_type": "code",
   "execution_count": 4,
   "id": "5ee49ea0",
   "metadata": {},
   "outputs": [
    {
     "name": "stdout",
     "output_type": "stream",
     "text": [
      "Loaded SuperPoint model\n"
     ]
    }
   ],
   "source": [
    "config = {}\n",
    "model = SuperPoint(config).to(device)"
   ]
  },
  {
   "cell_type": "code",
   "execution_count": 5,
   "id": "c103f3fc",
   "metadata": {},
   "outputs": [],
   "source": [
    "def extract_aggregate_feature(folder_path):\n",
    "    all_descriptors = list()\n",
    "    database_feature = dict()\n",
    "    \n",
    "    for img_name in tqdm(os.listdir(folder_path)):\n",
    "        \n",
    "        # get feature\n",
    "        img_path = folder_path + img_name\n",
    "        des = describe_SP(img_path, model)\n",
    "        \n",
    "        # append the descriptor to the aggregated list\n",
    "        all_descriptors.extend(des)\n",
    "    \n",
    "    # use np.asarray so we don't copy and save some memory\n",
    "    all_descriptors = np.asarray(all_descriptors)\n",
    "\n",
    "    return all_descriptors"
   ]
  },
  {
   "cell_type": "code",
   "execution_count": 6,
   "id": "c57c29d2",
   "metadata": {},
   "outputs": [
    {
     "name": "stderr",
     "output_type": "stream",
     "text": [
      "  0%|          | 0/28600 [00:00<?, ?it/s]f:\\Anaconda\\envs\\dl_class\\lib\\site-packages\\torch\\nn\\functional.py:4003: UserWarning: Default grid_sample and affine_grid behavior has changed to align_corners=False since 1.3.0. Please specify align_corners=True if the old behavior is desired. See the documentation of grid_sample for details.\n",
      "  warnings.warn(\n",
      "100%|██████████| 28600/28600 [02:33<00:00, 186.57it/s]\n"
     ]
    }
   ],
   "source": [
    "database_entire_des = extract_aggregate_feature(database_path)"
   ]
  },
  {
   "cell_type": "code",
   "execution_count": 7,
   "id": "f807a341",
   "metadata": {},
   "outputs": [
    {
     "data": {
      "text/plain": [
       "array([[ 0.07057239, -0.03425601,  0.05497125, ..., -0.08797342,\n",
       "         0.03104934, -0.03061824],\n",
       "       [-0.01913537, -0.08570611, -0.01717542, ...,  0.00993874,\n",
       "        -0.05137511,  0.11027606],\n",
       "       [-0.04123871, -0.10240069, -0.07178341, ..., -0.03379937,\n",
       "        -0.04927987,  0.12967685],\n",
       "       ...,\n",
       "       [ 0.00099126,  0.02424804, -0.07702713, ..., -0.07886484,\n",
       "         0.01954492, -0.02025311],\n",
       "       [ 0.0511143 ,  0.07189209, -0.0496801 , ..., -0.0844245 ,\n",
       "         0.02476264, -0.00896518],\n",
       "       [-0.01272065, -0.08381266,  0.04697344, ...,  0.09732965,\n",
       "        -0.03126185, -0.01892946]])"
      ]
     },
     "execution_count": 7,
     "metadata": {},
     "output_type": "execute_result"
    }
   ],
   "source": [
    "database_entire_des"
   ]
  },
  {
   "cell_type": "markdown",
   "id": "e71f0de1",
   "metadata": {},
   "source": [
    "# Clustering the Features using K-mean"
   ]
  },
  {
   "cell_type": "markdown",
   "id": "789aadd8",
   "metadata": {},
   "source": [
    "2. **Clustering** the entire list of features by using scikit-learn's KMeans class. \n",
    "    - We cluster them into 16 class and only run it 1 times, because in our case we are actually finding the identical image in the database given a query, and the image is very small itself. In the real world the query image may be larger and not even in the database, so we can only find similar one, we would need more classes (64 or 256) and more run of the clustering algorithm to get the best performing one (like 10 times) so the generated codebook is more robust.\n",
    "    - I turned off the text display for training so it's less verbose."
   ]
  },
  {
   "cell_type": "code",
   "execution_count": 8,
   "id": "d1fdee85",
   "metadata": {
    "scrolled": true
   },
   "outputs": [
    {
     "name": "stdout",
     "output_type": "stream",
     "text": [
      "Initialization complete\n",
      "Iteration 0, inertia 1238436.8184479217\n",
      "Iteration 1, inertia 805091.2034954784\n",
      "Iteration 2, inertia 790993.4822269739\n",
      "Iteration 3, inertia 785865.9797691304\n",
      "Iteration 4, inertia 783332.1120288162\n",
      "Iteration 5, inertia 781552.5783317005\n",
      "Iteration 6, inertia 779885.8957516701\n",
      "Iteration 7, inertia 778215.1441894841\n",
      "Iteration 8, inertia 776725.6306437213\n",
      "Iteration 9, inertia 775546.6877727702\n",
      "Iteration 10, inertia 774690.0073707501\n",
      "Iteration 11, inertia 774061.6008872973\n",
      "Iteration 12, inertia 773565.5086621407\n",
      "Iteration 13, inertia 773157.7935120404\n",
      "Iteration 14, inertia 772824.1843550209\n",
      "Iteration 15, inertia 772557.6341004377\n",
      "Iteration 16, inertia 772343.3817622741\n",
      "Iteration 17, inertia 772169.794354088\n",
      "Iteration 18, inertia 772020.4949608071\n",
      "Iteration 19, inertia 771888.6392220616\n",
      "Iteration 20, inertia 771771.2259632677\n",
      "Iteration 21, inertia 771665.3044280304\n",
      "Iteration 22, inertia 771568.6293931158\n",
      "Iteration 23, inertia 771479.6390612455\n",
      "Iteration 24, inertia 771395.153728208\n",
      "Iteration 25, inertia 771313.5267596209\n",
      "Iteration 26, inertia 771232.5781460567\n",
      "Iteration 27, inertia 771151.4091082123\n",
      "Iteration 28, inertia 771068.9072146565\n",
      "Iteration 29, inertia 770986.4041171246\n",
      "Iteration 30, inertia 770902.9493686433\n",
      "Iteration 31, inertia 770817.4161666281\n",
      "Iteration 32, inertia 770729.5914880177\n",
      "Iteration 33, inertia 770642.415989416\n",
      "Iteration 34, inertia 770562.3843878935\n",
      "Iteration 35, inertia 770488.8015789588\n",
      "Iteration 36, inertia 770420.0318441627\n",
      "Iteration 37, inertia 770356.5744816808\n",
      "Iteration 38, inertia 770300.1010464879\n",
      "Iteration 39, inertia 770249.3368555339\n",
      "Iteration 40, inertia 770202.9841525573\n",
      "Iteration 41, inertia 770161.0211906355\n",
      "Iteration 42, inertia 770122.7729513705\n",
      "Iteration 43, inertia 770087.2740248642\n",
      "Iteration 44, inertia 770053.6749014691\n",
      "Iteration 45, inertia 770023.5150044651\n",
      "Iteration 46, inertia 769995.9716204529\n",
      "Iteration 47, inertia 769970.8124510212\n",
      "Iteration 48, inertia 769947.8441498843\n",
      "Iteration 49, inertia 769927.5081447928\n",
      "Iteration 50, inertia 769908.6040559101\n",
      "Iteration 51, inertia 769891.110114258\n",
      "Iteration 52, inertia 769874.9196350652\n",
      "Iteration 53, inertia 769859.5113106717\n",
      "Iteration 54, inertia 769845.1432362337\n",
      "Iteration 55, inertia 769832.2360322615\n",
      "Iteration 56, inertia 769821.0439019534\n",
      "Iteration 57, inertia 769810.7408150263\n",
      "Iteration 58, inertia 769801.381381396\n",
      "Iteration 59, inertia 769792.949398595\n",
      "Iteration 60, inertia 769784.6429797477\n",
      "Iteration 61, inertia 769776.3521340674\n",
      "Iteration 62, inertia 769768.3654503872\n",
      "Iteration 63, inertia 769760.7091010722\n",
      "Iteration 64, inertia 769753.2496727828\n",
      "Iteration 65, inertia 769746.1380029559\n",
      "Iteration 66, inertia 769739.3967399945\n",
      "Iteration 67, inertia 769732.9043047432\n",
      "Iteration 68, inertia 769726.7504559986\n",
      "Iteration 69, inertia 769720.9281560162\n",
      "Iteration 70, inertia 769715.3845653381\n",
      "Iteration 71, inertia 769709.7371248568\n",
      "Iteration 72, inertia 769704.6898012578\n",
      "Iteration 73, inertia 769699.9442923181\n",
      "Iteration 74, inertia 769695.3206130386\n",
      "Iteration 75, inertia 769690.8992714888\n",
      "Iteration 76, inertia 769686.8313579803\n",
      "Iteration 77, inertia 769682.8154198653\n",
      "Iteration 78, inertia 769678.77992621\n",
      "Iteration 79, inertia 769675.0713498216\n",
      "Iteration 80, inertia 769671.5430969937\n",
      "Iteration 81, inertia 769668.0658919497\n",
      "Iteration 82, inertia 769664.7443335513\n",
      "Iteration 83, inertia 769661.4160816721\n",
      "Iteration 84, inertia 769658.1929796191\n",
      "Iteration 85, inertia 769655.1066023238\n",
      "Iteration 86, inertia 769652.0335734924\n",
      "Iteration 87, inertia 769648.9064830623\n",
      "Iteration 88, inertia 769645.710545562\n",
      "Iteration 89, inertia 769642.5127071583\n",
      "Iteration 90, inertia 769639.3086241265\n",
      "Iteration 91, inertia 769636.0551034077\n",
      "Iteration 92, inertia 769632.6741193027\n",
      "Iteration 93, inertia 769629.2081637532\n",
      "Iteration 94, inertia 769625.5807075703\n",
      "Iteration 95, inertia 769621.8877318881\n",
      "Iteration 96, inertia 769617.9924015308\n",
      "Iteration 97, inertia 769613.7259847962\n",
      "Iteration 98, inertia 769609.4816456408\n",
      "Iteration 99, inertia 769605.0830321677\n",
      "Iteration 100, inertia 769600.644321206\n",
      "Iteration 101, inertia 769596.281160012\n",
      "Iteration 102, inertia 769591.8131804521\n",
      "Iteration 103, inertia 769586.878110141\n",
      "Iteration 104, inertia 769581.6916851861\n",
      "Iteration 105, inertia 769576.1615506369\n",
      "Iteration 106, inertia 769570.4190317364\n",
      "Iteration 107, inertia 769564.2104906522\n",
      "Iteration 108, inertia 769558.2179968703\n",
      "Iteration 109, inertia 769552.418366963\n",
      "Iteration 110, inertia 769546.6767854635\n",
      "Iteration 111, inertia 769541.2196917852\n",
      "Iteration 112, inertia 769535.7038276832\n",
      "Iteration 113, inertia 769530.51257666\n",
      "Iteration 114, inertia 769525.3062368827\n",
      "Iteration 115, inertia 769520.076596861\n",
      "Iteration 116, inertia 769514.8745401154\n",
      "Iteration 117, inertia 769509.6150492888\n",
      "Iteration 118, inertia 769504.5959292176\n",
      "Iteration 119, inertia 769500.3201907862\n",
      "Iteration 120, inertia 769496.5465201841\n",
      "Iteration 121, inertia 769493.0613239497\n",
      "Iteration 122, inertia 769489.830823697\n",
      "Iteration 123, inertia 769486.7017084517\n",
      "Iteration 124, inertia 769483.6974049993\n",
      "Iteration 125, inertia 769481.0056998475\n",
      "Iteration 126, inertia 769478.6922695935\n",
      "Iteration 127, inertia 769476.7506634225\n",
      "Iteration 128, inertia 769475.100200011\n",
      "Iteration 129, inertia 769473.6405795363\n",
      "Iteration 130, inertia 769472.3045284319\n",
      "Iteration 131, inertia 769471.0918536886\n",
      "Iteration 132, inertia 769469.9015326139\n",
      "Iteration 133, inertia 769468.8514782451\n",
      "Iteration 134, inertia 769467.831381738\n",
      "Iteration 135, inertia 769466.8132815941\n",
      "Iteration 136, inertia 769465.8775404418\n",
      "Iteration 137, inertia 769464.9946899671\n",
      "Iteration 138, inertia 769464.0586469732\n",
      "Iteration 139, inertia 769463.1360296416\n",
      "Iteration 140, inertia 769462.3224074824\n",
      "Iteration 141, inertia 769461.5853356471\n",
      "Iteration 142, inertia 769460.8491683991\n",
      "Iteration 143, inertia 769460.1435365849\n",
      "Iteration 144, inertia 769459.4633331915\n",
      "Iteration 145, inertia 769458.8740394164\n",
      "Iteration 146, inertia 769458.3756179708\n",
      "Iteration 147, inertia 769457.9111078983\n",
      "Iteration 148, inertia 769457.4574427377\n",
      "Iteration 149, inertia 769456.9710277633\n",
      "Iteration 150, inertia 769456.5106357754\n",
      "Iteration 151, inertia 769456.057034431\n",
      "Iteration 152, inertia 769455.6654399908\n",
      "Iteration 153, inertia 769455.2991044609\n",
      "Iteration 154, inertia 769454.9373042554\n",
      "Iteration 155, inertia 769454.5716293161\n",
      "Iteration 156, inertia 769454.2209756032\n",
      "Iteration 157, inertia 769453.8857941823\n",
      "Iteration 158, inertia 769453.533136235\n",
      "Iteration 159, inertia 769453.1744586919\n",
      "Iteration 160, inertia 769452.8559546372\n",
      "Iteration 161, inertia 769452.5475780338\n",
      "Iteration 162, inertia 769452.2359334478\n",
      "Iteration 163, inertia 769451.9507251147\n",
      "Iteration 164, inertia 769451.6836523092\n",
      "Iteration 165, inertia 769451.3891270615\n",
      "Iteration 166, inertia 769451.1119062762\n",
      "Iteration 167, inertia 769450.857000128\n",
      "Iteration 168, inertia 769450.5998832224\n",
      "Iteration 169, inertia 769450.3473248538\n",
      "Iteration 170, inertia 769450.0649497737\n",
      "Iteration 171, inertia 769449.7899003462\n",
      "Iteration 172, inertia 769449.4988041893\n",
      "Iteration 173, inertia 769449.1728532241\n",
      "Iteration 174, inertia 769448.8365443887\n",
      "Iteration 175, inertia 769448.5185028561\n",
      "Iteration 176, inertia 769448.1851358652\n",
      "Iteration 177, inertia 769447.8663151768\n",
      "Iteration 178, inertia 769447.508144441\n",
      "Iteration 179, inertia 769447.141519477\n",
      "Iteration 180, inertia 769446.7872691804\n",
      "Iteration 181, inertia 769446.4151513174\n",
      "Iteration 182, inertia 769446.0849677861\n",
      "Iteration 183, inertia 769445.774985155\n",
      "Iteration 184, inertia 769445.4650842326\n",
      "Iteration 185, inertia 769445.1641961407\n",
      "Iteration 186, inertia 769444.8648482384\n",
      "Iteration 187, inertia 769444.616532952\n",
      "Iteration 188, inertia 769444.3772639263\n",
      "Iteration 189, inertia 769444.1287798042\n",
      "Iteration 190, inertia 769443.8588225277\n",
      "Iteration 191, inertia 769443.5588828739\n",
      "Iteration 192, inertia 769443.2282659718\n",
      "Iteration 193, inertia 769442.8214470645\n",
      "Iteration 194, inertia 769442.3309071006\n",
      "Iteration 195, inertia 769441.8332754939\n",
      "Iteration 196, inertia 769441.3519229617\n",
      "Iteration 197, inertia 769440.949378785\n",
      "Iteration 198, inertia 769440.5874151026\n",
      "Iteration 199, inertia 769440.221594364\n",
      "Iteration 200, inertia 769439.8655639717\n",
      "Iteration 201, inertia 769439.4261459521\n",
      "Iteration 202, inertia 769438.9706073959\n",
      "Iteration 203, inertia 769438.5779609119\n",
      "Iteration 204, inertia 769438.1694403845\n",
      "Iteration 205, inertia 769437.7563338756\n",
      "Iteration 206, inertia 769437.3448139122\n",
      "Iteration 207, inertia 769436.904471064\n",
      "Iteration 208, inertia 769436.4614722418\n",
      "Iteration 209, inertia 769436.0078766193\n",
      "Iteration 210, inertia 769435.532600756\n",
      "Iteration 211, inertia 769435.0471777526\n",
      "Iteration 212, inertia 769434.5509536392\n",
      "Iteration 213, inertia 769434.0062114012\n",
      "Iteration 214, inertia 769433.4093210932\n",
      "Iteration 215, inertia 769432.8257353195\n",
      "Iteration 216, inertia 769432.2691834192\n",
      "Iteration 217, inertia 769431.6674788744\n",
      "Iteration 218, inertia 769431.0591717045\n",
      "Iteration 219, inertia 769430.4872057361\n",
      "Iteration 220, inertia 769429.8872653623\n",
      "Iteration 221, inertia 769429.31299692\n",
      "Iteration 222, inertia 769428.7759188326\n",
      "Iteration 223, inertia 769428.2533073637\n",
      "Iteration 224, inertia 769427.6552190082\n",
      "Iteration 225, inertia 769427.0296748831\n",
      "Iteration 226, inertia 769426.3918955124\n",
      "Iteration 227, inertia 769425.7306775709\n",
      "Iteration 228, inertia 769424.9994260382\n",
      "Iteration 229, inertia 769424.3114381732\n",
      "Iteration 230, inertia 769423.649706519\n",
      "Iteration 231, inertia 769422.975213366\n",
      "Iteration 232, inertia 769422.2576014241\n",
      "Iteration 233, inertia 769421.5403979572\n",
      "Iteration 234, inertia 769420.8337691922\n",
      "Iteration 235, inertia 769420.0935587881\n",
      "Iteration 236, inertia 769419.2898464728\n",
      "Iteration 237, inertia 769418.4951324891\n",
      "Iteration 238, inertia 769417.7012742942\n",
      "Iteration 239, inertia 769416.9454116748\n",
      "Iteration 240, inertia 769416.2450052729\n",
      "Iteration 241, inertia 769415.5578500784\n",
      "Iteration 242, inertia 769414.9105455058\n",
      "Iteration 243, inertia 769414.2907545795\n",
      "Iteration 244, inertia 769413.6711504316\n",
      "Iteration 245, inertia 769413.0908594916\n",
      "Iteration 246, inertia 769412.522469622\n",
      "Iteration 247, inertia 769412.0310554695\n",
      "Iteration 248, inertia 769411.5734844698\n",
      "Iteration 249, inertia 769411.0862731484\n",
      "Iteration 250, inertia 769410.5861890134\n",
      "Iteration 251, inertia 769410.0892677619\n",
      "Iteration 252, inertia 769409.6377489041\n",
      "Iteration 253, inertia 769409.1724444007\n",
      "Iteration 254, inertia 769408.7544630235\n",
      "Iteration 255, inertia 769408.3201153177\n",
      "Iteration 256, inertia 769407.8923083652\n",
      "Iteration 257, inertia 769407.5234205521\n",
      "Iteration 258, inertia 769407.1726184302\n",
      "Iteration 259, inertia 769406.8180807257\n",
      "Iteration 260, inertia 769406.504980548\n",
      "Iteration 261, inertia 769406.2025792117\n",
      "Iteration 262, inertia 769405.9383204777\n",
      "Iteration 263, inertia 769405.6647291513\n",
      "Iteration 264, inertia 769405.3633664645\n",
      "Iteration 265, inertia 769405.0508305853\n",
      "Iteration 266, inertia 769404.76818398\n",
      "Iteration 267, inertia 769404.5122452325\n",
      "Iteration 268, inertia 769404.2832909122\n",
      "Iteration 269, inertia 769404.0903184855\n",
      "Iteration 270, inertia 769403.8951191842\n",
      "Iteration 271, inertia 769403.660510348\n",
      "Iteration 272, inertia 769403.4175351704\n",
      "Iteration 273, inertia 769403.1268637467\n",
      "Iteration 274, inertia 769402.8330845935\n",
      "Iteration 275, inertia 769402.5575242878\n",
      "Iteration 276, inertia 769402.3120582702\n",
      "Iteration 277, inertia 769402.0677056233\n",
      "Iteration 278, inertia 769401.809432453\n",
      "Iteration 279, inertia 769401.5491040101\n",
      "Iteration 280, inertia 769401.2719233201\n",
      "Iteration 281, inertia 769400.9770288961\n",
      "Iteration 282, inertia 769400.6369415754\n",
      "Iteration 283, inertia 769400.2693563316\n",
      "Iteration 284, inertia 769399.9324712924\n",
      "Iteration 285, inertia 769399.6114612736\n",
      "Iteration 286, inertia 769399.3116307433\n",
      "Iteration 287, inertia 769399.0273521327\n",
      "Iteration 288, inertia 769398.6926595521\n",
      "Iteration 289, inertia 769398.3124038288\n",
      "Iteration 290, inertia 769397.8809614576\n",
      "Iteration 291, inertia 769397.3724131255\n",
      "Iteration 292, inertia 769396.8260516146\n",
      "Iteration 293, inertia 769396.2825339616\n",
      "Iteration 294, inertia 769395.674528648\n",
      "Iteration 295, inertia 769394.9992170525\n",
      "Iteration 296, inertia 769394.2872520898\n",
      "Iteration 297, inertia 769393.5963149461\n",
      "Iteration 298, inertia 769392.8632713266\n",
      "Iteration 299, inertia 769392.0319712957\n"
     ]
    }
   ],
   "source": [
    "# clustering the entire bag of descriptor\n",
    "codebook = KMeans(n_clusters = 16, init='k-means++', n_init=1, verbose=1).fit(database_entire_des)"
   ]
  },
  {
   "cell_type": "markdown",
   "id": "537db22e",
   "metadata": {},
   "source": [
    "# Compute VLAD Feature for Every Database Image"
   ]
  },
  {
   "cell_type": "markdown",
   "id": "bbddb519",
   "metadata": {},
   "source": [
    "3. **Compute** VLAD feature for every image. We first load all images, compute their (SIFT) features on the fly as it's faster like I said before. We then use this feature to compute the corresponding VLAD feature of this image, and append it to the list `database_VLAD`, where each element is a VLAD feature.\n",
    "    - We compute VLAD by compute the sum of residue to each centroid and concatenate these vectors.\n",
    "    - We normalize the VLAD vector using square root normalization and L2 normalization.\n",
    "    - My implementation of VLAD calculation is adapted from here: https://github.com/jorjasso/VLAD/blob/eeaad96c33aea9c11bceb285ba5cdabba9fb663f/VLADlib/VLAD.py#L177\n",
    "4. At the same time we create a list `database_name` used to hold all the names of database image. Because we are inserting name to this list at the same time we create and append a VLAD feature, we now have a one-to-one mapping between `database_VLAD` and `database_name`, i.e. two list is pointing to the same image if given two identical index."
   ]
  },
  {
   "cell_type": "code",
   "execution_count": 9,
   "id": "387fc4ba",
   "metadata": {},
   "outputs": [],
   "source": [
    "def get_VLAD(X, codebook):\n",
    "\n",
    "    predictedLabels = codebook.predict(X)\n",
    "    centroids = codebook.cluster_centers_\n",
    "    labels = codebook.labels_\n",
    "    k = codebook.n_clusters\n",
    "   \n",
    "    m,d = X.shape\n",
    "    VLAD_feature = np.zeros([k,d])\n",
    "    #computing the differences\n",
    "\n",
    "    # for all the clusters (visual words)\n",
    "    for i in range(k):\n",
    "        # if there is at least one descriptor in that cluster\n",
    "        if np.sum(predictedLabels == i) > 0:\n",
    "            # add the diferences\n",
    "            VLAD_feature[i] = np.sum(X[predictedLabels==i,:] - centroids[i],axis=0)\n",
    "    \n",
    "\n",
    "    VLAD_feature = VLAD_feature.flatten()\n",
    "    # power normalization, also called square-rooting normalization\n",
    "    VLAD_feature = np.sign(VLAD_feature)*np.sqrt(np.abs(VLAD_feature))\n",
    "\n",
    "    # L2 normalization\n",
    "    VLAD_feature = VLAD_feature/np.linalg.norm(VLAD_feature)\n",
    "    return VLAD_feature"
   ]
  },
  {
   "cell_type": "code",
   "execution_count": 12,
   "id": "bdad5d90",
   "metadata": {},
   "outputs": [
    {
     "name": "stderr",
     "output_type": "stream",
     "text": [
      "100%|██████████| 28600/28600 [09:33<00:00, 49.86it/s]\n"
     ]
    }
   ],
   "source": [
    "warnings.filterwarnings('ignore')\n",
    "\n",
    "database_VLAD = list()\n",
    "database_name = list()\n",
    "for img_name in tqdm(os.listdir(database_path)):\n",
    "    img_path = database_path + img_name\n",
    "    des = describe_SP(img_path, model)\n",
    "    VLAD = get_VLAD(des, codebook)\n",
    "    database_VLAD.append(VLAD)\n",
    "    database_name.append(img_name)\n",
    "    \n",
    "database_VLAD = np.asarray(database_VLAD)\n",
    "    #database_VLAD[VLAD] = img_name"
   ]
  },
  {
   "cell_type": "markdown",
   "id": "83a58650",
   "metadata": {},
   "source": [
    "# Indexing all the VLAD Features"
   ]
  },
  {
   "cell_type": "markdown",
   "id": "1e271a07",
   "metadata": {},
   "source": [
    "5. **Indexing** all the VLAD features by creating a `BallTree` of the list `database_VLAD`. This is not essential because we can also do a pair-wise comparison, but BallTree saves a lot of time when retrieving the item that has the smallest distance to the query. This is not essential so I will skip explaining Balltree. But generally, it's a efficient indexing method that performs better when the data is high dimensional, comparing to its alternative KD-Tree\n",
    "    - I am using L2 distance as the measure between VLAD features. But the choice doesn't matter in this specific problem, because again, we are finding the exact same picture so the distance, no matter what, would be 0, since SIFT and VLAD are both not randomized, so for the same image they would generate the same feature vector."
   ]
  },
  {
   "cell_type": "code",
   "execution_count": 13,
   "id": "3a97cb32",
   "metadata": {},
   "outputs": [],
   "source": [
    "tree = BallTree(database_VLAD, leaf_size=60)"
   ]
  },
  {
   "cell_type": "markdown",
   "id": "016ef4d2",
   "metadata": {},
   "source": [
    "# Query"
   ]
  },
  {
   "cell_type": "markdown",
   "id": "4b6cef29",
   "metadata": {},
   "source": [
    "6. Compute (SIFT) feature of all the query images, and then compute VLAD feature accordingly, using the same clustering as the database. We then get the VLAD feature of this 5 query images. We then find the images in database whose VLAD feature distance to these query images are 0, respectively.\n",
    "    - Here we are finding only the top 1 match in `tree.query`, because we know the distance will be 0 as the image in query will have an identical one in the database. In the real world when finding similar images, we will need more matching like 3 or 5, and manually or use some other algorithm to further identify the most similar one"
   ]
  },
  {
   "cell_type": "code",
   "execution_count": 15,
   "id": "0cde7afe",
   "metadata": {},
   "outputs": [
    {
     "name": "stderr",
     "output_type": "stream",
     "text": [
      "100%|██████████| 5/5 [00:00<00:00,  5.75it/s]\n"
     ]
    }
   ],
   "source": [
    "value_list = list()\n",
    "for img_name in tqdm(os.listdir(query_path)):\n",
    "    image_path = query_path+img_name\n",
    "    q_des = describe_SP(image_path, model)\n",
    "    query_VLAD = get_VLAD(q_des, codebook).reshape(1, -1)\n",
    "    \n",
    "    # we only want the cloest one\n",
    "    dist, index = tree.query(query_VLAD, num_of_imgs)\n",
    "    \n",
    "    # index is an array of array of 1\n",
    "    value_name = database_name[index[0][0]]\n",
    "    value_list.append(value_name)"
   ]
  },
  {
   "cell_type": "markdown",
   "id": "fc9dc62c",
   "metadata": {},
   "source": [
    "# Results"
   ]
  },
  {
   "cell_type": "markdown",
   "id": "044ea6e2",
   "metadata": {},
   "source": [
    "7. Below is the matches in the database for all the query images, in the order from query1.png to query5.png"
   ]
  },
  {
   "cell_type": "code",
   "execution_count": 16,
   "id": "919e50b0",
   "metadata": {},
   "outputs": [
    {
     "data": {
      "text/plain": [
       "['image1373.png',\n",
       " 'image2622.png',\n",
       " 'image6051.png',\n",
       " 'image26588.png',\n",
       " 'image13935.png']"
      ]
     },
     "execution_count": 16,
     "metadata": {},
     "output_type": "execute_result"
    }
   ],
   "source": [
    "value_list"
   ]
  },
  {
   "cell_type": "code",
   "execution_count": null,
   "id": "aa46b8ee",
   "metadata": {},
   "outputs": [],
   "source": []
  }
 ],
 "metadata": {
  "kernelspec": {
   "display_name": "Python 3",
   "language": "python",
   "name": "python3"
  },
  "language_info": {
   "codemirror_mode": {
    "name": "ipython",
    "version": 3
   },
   "file_extension": ".py",
   "mimetype": "text/x-python",
   "name": "python",
   "nbconvert_exporter": "python",
   "pygments_lexer": "ipython3",
   "version": "3.8.8"
  },
  "vscode": {
   "interpreter": {
    "hash": "3f4c4b58b56bec0d7d0b99d65fb0ca77edafb9849d00ff6c9cb15db0d3feb748"
   }
  }
 },
 "nbformat": 4,
 "nbformat_minor": 5
}
